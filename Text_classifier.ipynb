{
  "nbformat": 4,
  "nbformat_minor": 0,
  "metadata": {
    "colab": {
      "private_outputs": true,
      "provenance": [],
      "gpuType": "T4"
    },
    "kernelspec": {
      "name": "python3",
      "display_name": "Python 3"
    },
    "language_info": {
      "name": "python"
    },
    "accelerator": "GPU"
  },
  "cells": [
    {
      "cell_type": "code",
      "execution_count": null,
      "metadata": {
        "id": "iBtif9-0a45h"
      },
      "outputs": [],
      "source": [
        "import pandas as pd\n",
        "import numpy as np\n",
        "import matplotlib.pyplot as plt\n",
        "import seaborn as sns\n",
        "import warnings\n",
        "warnings.filterwarnings('ignore')"
      ]
    },
    {
      "cell_type": "code",
      "source": [
        "df=pd.read_csv(\"train.txt\",delimiter=';',names=['sentence','label'])\n",
        "df.head()"
      ],
      "metadata": {
        "id": "nF_dP7ggbKmm"
      },
      "execution_count": null,
      "outputs": []
    },
    {
      "cell_type": "code",
      "source": [
        "df.value_counts('label')"
      ],
      "metadata": {
        "id": "s5N8ozX5bfS-"
      },
      "execution_count": null,
      "outputs": []
    },
    {
      "cell_type": "code",
      "source": [
        "from sklearn.preprocessing import LabelEncoder\n",
        "le=LabelEncoder()\n",
        "df['label']=le.fit_transform(df['label'])\n",
        "df.head()"
      ],
      "metadata": {
        "id": "nR0eYjIKboV1"
      },
      "execution_count": null,
      "outputs": []
    },
    {
      "cell_type": "code",
      "source": [
        "# prompt: create class weights for labels\n",
        "\n",
        "from sklearn.utils import class_weight\n",
        "\n",
        "class_weights = class_weight.compute_class_weight(\n",
        "    class_weight='balanced',\n",
        "    classes=np.unique(df['label']),\n",
        "    y=df['label']\n",
        ")\n",
        "\n",
        "class_weights_dict = dict(enumerate(class_weights))\n",
        "print(class_weights_dict)\n"
      ],
      "metadata": {
        "id": "XrSyyRRvbvlG"
      },
      "execution_count": null,
      "outputs": []
    },
    {
      "cell_type": "code",
      "source": [
        "from tensorflow.keras.preprocessing.text import Tokenizer\n",
        "from tensorflow.keras.preprocessing.sequence import pad_sequences\n",
        "from tensorflow.keras.models import Sequential\n",
        "from tensorflow.keras.layers import Embedding, LSTM, Dense, Dropout\n",
        "from tensorflow.keras.callbacks import EarlyStopping\n",
        "from tensorflow.keras.utils import to_categorical"
      ],
      "metadata": {
        "id": "WzjIblvye04Q"
      },
      "execution_count": null,
      "outputs": []
    },
    {
      "cell_type": "code",
      "source": [
        "tokanizer=Tokenizer(num_words=10000)\n",
        "tokanizer.fit_on_texts(df['sentence'])\n",
        "sequences=tokanizer.texts_to_sequences(df['sentence'])\n"
      ],
      "metadata": {
        "id": "9MfEJuYae9Ax"
      },
      "execution_count": null,
      "outputs": []
    },
    {
      "cell_type": "code",
      "source": [
        "len(tokanizer.word_counts)"
      ],
      "metadata": {
        "id": "fLyQ8xnOfNj1"
      },
      "execution_count": null,
      "outputs": []
    },
    {
      "cell_type": "code",
      "source": [
        "tr_df=pad_sequences(sequences,maxlen=100,padding='post')\n",
        "tr_y=to_categorical(df['label'])"
      ],
      "metadata": {
        "id": "g7Iv7ZqqfcDV"
      },
      "execution_count": null,
      "outputs": []
    },
    {
      "cell_type": "code",
      "source": [
        "vocab_size=len(tokanizer.word_index)+1\n",
        "embedding_dim=128\n",
        "max_length=100\n",
        "num_classes=6"
      ],
      "metadata": {
        "id": "3L-oBScxf0Ku"
      },
      "execution_count": null,
      "outputs": []
    },
    {
      "cell_type": "code",
      "source": [
        "from tensorflow.keras.models import Model\n",
        "from tensorflow.keras.layers import Input, Embedding, LSTM, Dense, Dropout,Bidirectional,GlobalAveragePooling1D\n",
        "from tensorflow.keras.optimizers import Adam\n",
        "from tensorflow.keras.callbacks import EarlyStopping"
      ],
      "metadata": {
        "id": "3eBcRaCRgNdl"
      },
      "execution_count": null,
      "outputs": []
    },
    {
      "cell_type": "code",
      "source": [
        "model=Sequential()\n",
        "model.add(Embedding(input_dim=vocab_size,output_dim=embedding_dim,input_length=max_length))\n",
        "model.add(Bidirectional(LSTM(128,return_sequences=True)))\n",
        "model.add(Dropout(0.2))\n",
        "model.add(Bidirectional(LSTM(64)))\n",
        "model.add(GlobalAveragePooling1D())\n",
        "model.add(Dense(64,activation='relu'))\n",
        "model.add(Dropout(0.2))\n",
        "model.add(Dense(num_classes,activation='softmax'))"
      ],
      "metadata": {
        "id": "Gm_O-oBWiBnF"
      },
      "execution_count": null,
      "outputs": []
    },
    {
      "source": [
        "model=Sequential()\n",
        "model.add(Embedding(input_dim=vocab_size,output_dim=embedding_dim,input_length=max_length))\n",
        "model.add(Bidirectional(LSTM(128,return_sequences=True)))\n",
        "model.add(Dropout(0.2))\n",
        "model.add(Bidirectional(LSTM(64, return_sequences=True))) # Added return_sequences=True\n",
        "model.add(GlobalAveragePooling1D())\n",
        "model.add(Dense(64,activation='relu'))\n",
        "model.add(Dropout(0.2))\n",
        "model.add(Dense(num_classes,activation='softmax'))"
      ],
      "cell_type": "code",
      "metadata": {
        "id": "UCb3cS4LjmRW"
      },
      "execution_count": null,
      "outputs": []
    },
    {
      "cell_type": "code",
      "source": [
        "# prompt: make combile and use class_weight\n",
        "\n",
        "model.compile(loss='categorical_crossentropy', optimizer=Adam(learning_rate=0.001), metrics=['accuracy'])\n",
        "\n",
        "early_stopping = EarlyStopping(monitor='val_loss', patience=3, restore_best_weights=True)\n",
        "\n",
        "history = model.fit(tr_df, tr_y, epochs=10, batch_size=32, validation_split=0.2, class_weight=class_weights_dict, callbacks=[early_stopping])\n"
      ],
      "metadata": {
        "id": "HC3TqiimjLym"
      },
      "execution_count": null,
      "outputs": []
    },
    {
      "cell_type": "code",
      "source": [
        "# prompt: read test.txt and split the sentence and label then convert label by labelencoder and predict the sentense label then get the accurecy\n",
        "\n",
        "df_test = pd.read_csv(\"test.txt\", delimiter=';', names=['sentence', 'label'])\n",
        "df_test['label'] = le.transform(df_test['label'])\n",
        "test_sequences = tokanizer.texts_to_sequences(df_test['sentence'])\n",
        "test_df = pad_sequences(test_sequences, maxlen=100, padding='post')\n",
        "test_y = to_categorical(df_test['label'])\n",
        "\n",
        "loss, accuracy = model.evaluate(test_df, test_y)\n",
        "print(f\"Test Accuracy: {accuracy}\")\n",
        "\n",
        "y_pred = model.predict(test_df)\n",
        "y_pred_classes = np.argmax(y_pred, axis=1)\n",
        "y_true_classes = np.argmax(test_y, axis=1)\n",
        "\n",
        "from sklearn.metrics import accuracy_score\n",
        "\n",
        "accuracy = accuracy_score(y_true_classes, y_pred_classes)\n",
        "print(f\"Test Accuracy: {accuracy}\")\n"
      ],
      "metadata": {
        "id": "yDTCGNYCkHwl"
      },
      "execution_count": null,
      "outputs": []
    },
    {
      "cell_type": "code",
      "source": [
        "# prompt: read test.txt and split the sentence and label then convert label by labelencoder and predict the sentense label then get the accurecy\n",
        "\n",
        "df_test = pd.read_csv(\"val.txt\", delimiter=';', names=['sentence', 'label'])\n",
        "df_test['label'] = le.transform(df_test['label'])\n",
        "test_sequences = tokanizer.texts_to_sequences(df_test['sentence'])\n",
        "test_df = pad_sequences(test_sequences, maxlen=100, padding='post')\n",
        "test_y = to_categorical(df_test['label'])\n",
        "\n",
        "loss, accuracy = model.evaluate(test_df, test_y)\n",
        "print(f\"Test Accuracy: {accuracy}\")\n",
        "\n",
        "y_pred = model.predict(test_df)\n",
        "y_pred_classes = np.argmax(y_pred, axis=1)\n",
        "y_true_classes = np.argmax(test_y, axis=1)\n",
        "\n",
        "from sklearn.metrics import accuracy_score\n",
        "\n",
        "accuracy = accuracy_score(y_true_classes, y_pred_classes)\n",
        "print(f\"Test Accuracy: {accuracy}\")\n"
      ],
      "metadata": {
        "id": "GLx7pzDsk0tu"
      },
      "execution_count": null,
      "outputs": []
    },
    {
      "cell_type": "code",
      "source": [
        "# prompt: download the model and load it again\n",
        "\n",
        "# Save the model\n",
        "model.save('my_model.h5')\n",
        "\n",
        "# Download the model file\n",
        "\n",
        "# Now you can use loaded_model for predictions or further training\n"
      ],
      "metadata": {
        "id": "-PBe-DfCk5Ml"
      },
      "execution_count": null,
      "outputs": []
    },
    {
      "cell_type": "code",
      "source": [
        "from google.colab import files\n",
        "files.download('my_model.h5')\n",
        "\n",
        "# Load the model\n",
        "from tensorflow.keras.models import load_model\n",
        "loaded_model = load_model('my_model.h5')\n"
      ],
      "metadata": {
        "id": "y_YoQRyFlBqt"
      },
      "execution_count": null,
      "outputs": []
    }
  ]
}